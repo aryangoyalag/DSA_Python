{
  "nbformat": 4,
  "nbformat_minor": 0,
  "metadata": {
    "colab": {
      "name": "dsa_1.ipynb",
      "provenance": [],
      "collapsed_sections": []
    },
    "kernelspec": {
      "name": "python3",
      "display_name": "Python 3"
    },
    "language_info": {
      "name": "python"
    }
  },
  "cells": [
    {
      "cell_type": "code",
      "execution_count": 5,
      "metadata": {
        "id": "PVPJAhzxS5ZU",
        "colab": {
          "base_uri": "https://localhost:8080/",
          "height": 471
        },
        "outputId": "1c84322c-eacf-4fbf-f083-bc2b7ecc375f"
      },
      "outputs": [
        {
          "output_type": "stream",
          "name": "stdout",
          "text": [
            "Looking in indexes: https://pypi.org/simple, https://us-python.pkg.dev/colab-wheels/public/simple/\n",
            "Collecting jovian\n",
            "  Downloading jovian-0.2.41-py2.py3-none-any.whl (68 kB)\n",
            "\u001b[K     |████████████████████████████████| 68 kB 4.5 MB/s \n",
            "\u001b[?25hRequirement already satisfied: pyyaml in /usr/local/lib/python3.7/dist-packages (from jovian) (3.13)\n",
            "Requirement already satisfied: click in /usr/local/lib/python3.7/dist-packages (from jovian) (7.1.2)\n",
            "Collecting uuid\n",
            "  Downloading uuid-1.30.tar.gz (5.8 kB)\n",
            "Requirement already satisfied: requests in /usr/local/lib/python3.7/dist-packages (from jovian) (2.23.0)\n",
            "Requirement already satisfied: idna<3,>=2.5 in /usr/local/lib/python3.7/dist-packages (from requests->jovian) (2.10)\n",
            "Requirement already satisfied: chardet<4,>=3.0.2 in /usr/local/lib/python3.7/dist-packages (from requests->jovian) (3.0.4)\n",
            "Requirement already satisfied: certifi>=2017.4.17 in /usr/local/lib/python3.7/dist-packages (from requests->jovian) (2022.5.18.1)\n",
            "Requirement already satisfied: urllib3!=1.25.0,!=1.25.1,<1.26,>=1.21.1 in /usr/local/lib/python3.7/dist-packages (from requests->jovian) (1.24.3)\n",
            "Building wheels for collected packages: uuid\n",
            "  Building wheel for uuid (setup.py) ... \u001b[?25l\u001b[?25hdone\n",
            "  Created wheel for uuid: filename=uuid-1.30-py3-none-any.whl size=6503 sha256=59078af62acef26ee0b098ceaba89de9a5d0ab9930d18d7e2a945db9fb9f0865\n",
            "  Stored in directory: /root/.cache/pip/wheels/2a/ea/87/dd57f1ecb4f0752f3e1dbf958ebf8b36d920d190425bcdc24d\n",
            "Successfully built uuid\n",
            "Installing collected packages: uuid, jovian\n",
            "Successfully installed jovian-0.2.41 uuid-1.30\n"
          ]
        },
        {
          "output_type": "display_data",
          "data": {
            "application/vnd.colab-display-data+json": {
              "pip_warning": {
                "packages": [
                  "uuid"
                ]
              }
            }
          },
          "metadata": {}
        }
      ],
      "source": [
        "pip install jovian\n"
      ]
    },
    {
      "cell_type": "code",
      "source": [
        "import jovian\n"
      ],
      "metadata": {
        "id": "jnI3gzYhFWp5"
      },
      "execution_count": 6,
      "outputs": []
    },
    {
      "cell_type": "markdown",
      "source": [
        "# **Linear Search and Binary Search**"
      ],
      "metadata": {
        "id": "QS9xxODxF0gP"
      }
    },
    {
      "cell_type": "markdown",
      "source": [
        "# **Creating Test Cases**"
      ],
      "metadata": {
        "id": "rPaGXe6vFZdJ"
      }
    },
    {
      "cell_type": "code",
      "source": [
        "def locate_card(cards,query):\n",
        "  pass"
      ],
      "metadata": {
        "id": "UYetIRMfGkly"
      },
      "execution_count": null,
      "outputs": []
    },
    {
      "cell_type": "code",
      "source": [
        "test = {\n",
        "    'input': {\n",
        "        'cards': [13,11,10,7,4,2,1,0],\n",
        "        'query': 7\n",
        "        },\n",
        "        'output':3\n",
        "    }\n"
      ],
      "metadata": {
        "id": "5o1UT9qHFZIw"
      },
      "execution_count": null,
      "outputs": []
    },
    {
      "cell_type": "code",
      "source": [
        "locate_card(**test['input']) == test['output']"
      ],
      "metadata": {
        "colab": {
          "base_uri": "https://localhost:8080/"
        },
        "id": "kukoznRsGr9a",
        "outputId": "c9d77b29-1f17-42bc-9ddd-f0400792d45b"
      },
      "execution_count": null,
      "outputs": [
        {
          "output_type": "execute_result",
          "data": {
            "text/plain": [
              "False"
            ]
          },
          "metadata": {},
          "execution_count": 5
        }
      ]
    },
    {
      "cell_type": "markdown",
      "source": [
        "Adding more test cases"
      ],
      "metadata": {
        "id": "xpjjPwjAHD63"
      }
    },
    {
      "cell_type": "markdown",
      "source": [
        "We created tests list because you cannot append in dictionary\n"
      ],
      "metadata": {
        "id": "a4N-e6sDHm6N"
      }
    },
    {
      "cell_type": "code",
      "source": [
        "tests=[]"
      ],
      "metadata": {
        "id": "x5_RSoBPHgHR"
      },
      "execution_count": null,
      "outputs": []
    },
    {
      "cell_type": "code",
      "source": [
        "tests.append({\n",
        "    'input':{\n",
        "        'cards':[6],\n",
        "        'query' : 6\n",
        "        },\n",
        "        'output':0\n",
        "    })"
      ],
      "metadata": {
        "id": "XXfDFD0gHDg1"
      },
      "execution_count": null,
      "outputs": []
    },
    {
      "cell_type": "code",
      "source": [
        "tests.append(test)"
      ],
      "metadata": {
        "id": "F6wbmSEAHym5"
      },
      "execution_count": null,
      "outputs": []
    },
    {
      "cell_type": "code",
      "source": [
        "tests.append({\n",
        "    'input': {\n",
        "        'cards': [8, 8, 6, 6, 6, 6, 6, 3, 2, 2, 2, 0, 0, 0],\n",
        "        'query': 3\n",
        "    },\n",
        "    'output': 7\n",
        "})\n",
        "tests.append({\n",
        "    'input': {\n",
        "        'cards': [],\n",
        "        'query': 7\n",
        "    },\n",
        "    'output': -1\n",
        "})"
      ],
      "metadata": {
        "id": "mALvhEr2H7is"
      },
      "execution_count": null,
      "outputs": []
    },
    {
      "cell_type": "code",
      "source": [
        "tests\n"
      ],
      "metadata": {
        "colab": {
          "base_uri": "https://localhost:8080/"
        },
        "id": "KHU79R4WIDUp",
        "outputId": "6220533e-96b9-43cf-dd2c-59abe3ade7dd"
      },
      "execution_count": null,
      "outputs": [
        {
          "output_type": "execute_result",
          "data": {
            "text/plain": [
              "[{'input': {'cards': [6], 'query': 6}, 'output': 0},\n",
              " {'input': {'cards': [13, 11, 10, 7, 4, 2, 1, 0], 'query': 7}, 'output': 3},\n",
              " {'input': {'cards': [8, 8, 6, 6, 6, 6, 6, 3, 2, 2, 2, 0, 0, 0], 'query': 3},\n",
              "  'output': 7},\n",
              " {'input': {'cards': [], 'query': 7}, 'output': -1}]"
            ]
          },
          "metadata": {},
          "execution_count": 10
        }
      ]
    },
    {
      "cell_type": "markdown",
      "source": [
        "**Brute force - Linear Search**"
      ],
      "metadata": {
        "id": "MvsfHwtmINq2"
      }
    },
    {
      "cell_type": "code",
      "source": [
        "def locate_card(cards,query):\n",
        "  position = 0\n",
        "  while True:\n",
        "    if cards[position]==query:\n",
        "      return position\n",
        "    position+=1\n",
        "    if position == len(cards):\n",
        "      return -1"
      ],
      "metadata": {
        "id": "JMKu1dxkIJhl"
      },
      "execution_count": null,
      "outputs": []
    },
    {
      "cell_type": "code",
      "source": [
        "result= locate_card(test['input']['cards'],test['input']['query'])\n",
        "result"
      ],
      "metadata": {
        "id": "IuVaSdM8IsB8",
        "colab": {
          "base_uri": "https://localhost:8080/"
        },
        "outputId": "3fd75003-af14-4af3-cfae-963b424bd902"
      },
      "execution_count": null,
      "outputs": [
        {
          "output_type": "execute_result",
          "data": {
            "text/plain": [
              "3"
            ]
          },
          "metadata": {},
          "execution_count": 12
        }
      ]
    },
    {
      "cell_type": "code",
      "source": [
        "!pip install jovian --upgrade --quiet"
      ],
      "metadata": {
        "id": "k5UK8qK3JA31"
      },
      "execution_count": null,
      "outputs": []
    },
    {
      "cell_type": "code",
      "source": [
        "from jovian.pythondsa import evaluate_test_case"
      ],
      "metadata": {
        "id": "VjFTF_j4I-N3"
      },
      "execution_count": 7,
      "outputs": []
    },
    {
      "cell_type": "code",
      "source": [
        "evaluate_test_case(locate_card,test)"
      ],
      "metadata": {
        "colab": {
          "base_uri": "https://localhost:8080/"
        },
        "id": "7sokr3OvJXrG",
        "outputId": "acfd3016-33de-4587-e36c-882c747d7603"
      },
      "execution_count": null,
      "outputs": [
        {
          "output_type": "stream",
          "name": "stdout",
          "text": [
            "\n",
            "Input:\n",
            "{'cards': [13, 11, 10, 7, 4, 2, 1, 0], 'query': 7}\n",
            "\n",
            "Expected Output:\n",
            "3\n",
            "\n",
            "\n",
            "Actual Output:\n",
            "3\n",
            "\n",
            "Execution Time:\n",
            "0.005 ms\n",
            "\n",
            "Test Result:\n",
            "\u001b[92mPASSED\u001b[0m\n",
            "\n"
          ]
        },
        {
          "output_type": "execute_result",
          "data": {
            "text/plain": [
              "(3, True, 0.005)"
            ]
          },
          "metadata": {},
          "execution_count": 15
        }
      ]
    },
    {
      "cell_type": "code",
      "source": [
        "from jovian.pythondsa import evaluate_test_cases"
      ],
      "metadata": {
        "id": "a446TUqvJj-O"
      },
      "execution_count": 8,
      "outputs": []
    },
    {
      "cell_type": "code",
      "source": [
        "evaluate_test_cases(locate_card,tests)"
      ],
      "metadata": {
        "id": "avDsY2cgJneZ"
      },
      "execution_count": null,
      "outputs": []
    },
    {
      "cell_type": "markdown",
      "source": [
        "debugging"
      ],
      "metadata": {
        "id": "VadiLSF1J3sR"
      }
    },
    {
      "cell_type": "code",
      "source": [
        "def locate_card(cards,query):\n",
        "  position = 0\n",
        "  print('cards:',cards)\n",
        "  print('query:',query)\n",
        "  while True:\n",
        "    print('position:',position)\n",
        "    if cards[position]==query:\n",
        "      return position\n",
        "    position+=1\n",
        "    if position == len(cards):\n",
        "      return -1"
      ],
      "metadata": {
        "id": "tHlUXn0eJ_DQ"
      },
      "execution_count": null,
      "outputs": []
    },
    {
      "cell_type": "code",
      "source": [
        "cards3 = tests[3]['input']['cards']\n",
        "query3 = tests[3]['input']['query']\n",
        "locate_card(cards3,query3)"
      ],
      "metadata": {
        "id": "0iZFolv5KSry"
      },
      "execution_count": null,
      "outputs": []
    },
    {
      "cell_type": "markdown",
      "source": [
        "# **Correct way for Linear Search**"
      ],
      "metadata": {
        "id": "9fbGpEpFLjO5"
      }
    },
    {
      "cell_type": "code",
      "source": [
        "def locate_card(cards,query):\n",
        "  position = 0\n",
        "  print('cards:',cards)\n",
        "  print('query:',query)\n",
        "  while position<len(cards):\n",
        "    print('position:',position)\n",
        "    if cards[position]==query:\n",
        "      return position\n",
        "    position+=1\n",
        "    \n",
        "  return -1"
      ],
      "metadata": {
        "id": "5shRkoIdK3LZ"
      },
      "execution_count": null,
      "outputs": []
    },
    {
      "cell_type": "code",
      "source": [
        "cards3 = tests[3]['input']['cards']\n",
        "query3 = tests[3]['input']['query']\n",
        "locate_card(cards3,query3)"
      ],
      "metadata": {
        "id": "AKw_3S99LAs4"
      },
      "execution_count": null,
      "outputs": []
    },
    {
      "cell_type": "code",
      "source": [
        "evaluate_test_cases(locate_card,tests)"
      ],
      "metadata": {
        "id": "gnIO-XYPLRMK",
        "colab": {
          "base_uri": "https://localhost:8080/"
        },
        "outputId": "e795dee7-f64f-466e-8891-02ecb21ddd29"
      },
      "execution_count": null,
      "outputs": [
        {
          "output_type": "stream",
          "name": "stdout",
          "text": [
            "\n",
            "\u001b[1mTEST CASE #0\u001b[0m\n",
            "cards: [6]\n",
            "query: 6\n",
            "position: 0\n",
            "\n",
            "Input:\n",
            "{'cards': [6], 'query': 6}\n",
            "\n",
            "Expected Output:\n",
            "0\n",
            "\n",
            "\n",
            "Actual Output:\n",
            "0\n",
            "\n",
            "Execution Time:\n",
            "0.07 ms\n",
            "\n",
            "Test Result:\n",
            "\u001b[92mPASSED\u001b[0m\n",
            "\n",
            "\n",
            "\u001b[1mTEST CASE #1\u001b[0m\n",
            "cards: [13, 11, 10, 7, 4, 2, 1, 0]\n",
            "query: 7\n",
            "position: 0\n",
            "position: 1\n",
            "position: 2\n",
            "position: 3\n",
            "\n",
            "Input:\n",
            "{'cards': [13, 11, 10, 7, 4, 2, 1, 0], 'query': 7}\n",
            "\n",
            "Expected Output:\n",
            "3\n",
            "\n",
            "\n",
            "Actual Output:\n",
            "3\n",
            "\n",
            "Execution Time:\n",
            "0.129 ms\n",
            "\n",
            "Test Result:\n",
            "\u001b[92mPASSED\u001b[0m\n",
            "\n",
            "\n",
            "\u001b[1mTEST CASE #2\u001b[0m\n",
            "cards: [8, 8, 6, 6, 6, 6, 6, 3, 2, 2, 2, 0, 0, 0]\n",
            "query: 3\n",
            "position: 0\n",
            "position: 1\n",
            "position: 2\n",
            "position: 3\n",
            "position: 4\n",
            "position: 5\n",
            "position: 6\n",
            "position: 7\n",
            "\n",
            "Input:\n",
            "{'cards': [8, 8, 6, 6, 6, 6, 6, 3, 2, 2, 2, 0, 0, 0], 'query': 3}\n",
            "\n",
            "Expected Output:\n",
            "7\n",
            "\n",
            "\n",
            "Actual Output:\n",
            "7\n",
            "\n",
            "Execution Time:\n",
            "0.206 ms\n",
            "\n",
            "Test Result:\n",
            "\u001b[92mPASSED\u001b[0m\n",
            "\n",
            "\n",
            "\u001b[1mTEST CASE #3\u001b[0m\n",
            "cards: []\n",
            "query: 7\n",
            "\n",
            "Input:\n",
            "{'cards': [], 'query': 7}\n",
            "\n",
            "Expected Output:\n",
            "-1\n",
            "\n",
            "\n",
            "Actual Output:\n",
            "-1\n",
            "\n",
            "Execution Time:\n",
            "0.041 ms\n",
            "\n",
            "Test Result:\n",
            "\u001b[92mPASSED\u001b[0m\n",
            "\n",
            "\n",
            "\u001b[1mSUMMARY\u001b[0m\n",
            "\n",
            "TOTAL: 4, \u001b[92mPASSED\u001b[0m: 4, \u001b[91mFAILED\u001b[0m: 0\n"
          ]
        },
        {
          "output_type": "execute_result",
          "data": {
            "text/plain": [
              "[(0, True, 0.07), (3, True, 0.129), (7, True, 0.206), (-1, True, 0.041)]"
            ]
          },
          "metadata": {},
          "execution_count": 22
        }
      ]
    },
    {
      "cell_type": "code",
      "source": [
        "jovian.commit(project='python-binary-search', environment=None)"
      ],
      "metadata": {
        "id": "RCRABp2FLnz-",
        "colab": {
          "base_uri": "https://localhost:8080/"
        },
        "outputId": "7393c2fd-aa20-4fb4-f769-6ac27feab9fe"
      },
      "execution_count": null,
      "outputs": [
        {
          "output_type": "stream",
          "name": "stdout",
          "text": [
            "[jovian] Detected Colab notebook...\u001b[0m\n"
          ]
        },
        {
          "output_type": "stream",
          "name": "stderr",
          "text": [
            "\u001b[31m[jovian] Error: jovian.commit doesn't work on Colab unless the notebook was created and executed from Jovian.\n",
            "Make sure to run the first code cell at the top after executing from Jovian.\n",
            "Alternatively, you can download this notebook and upload it manually to Jovian.\n",
            "Learn more: https://jovian.ai/docs/user-guide/run.html#run-on-colab\u001b[0m\n"
          ]
        }
      ]
    },
    {
      "cell_type": "markdown",
      "source": [
        "# **Binary Search**"
      ],
      "metadata": {
        "id": "uWFPx8_9tti8"
      }
    },
    {
      "cell_type": "code",
      "source": [
        "def locate_card(cards,query):\n",
        "  lo,hi=0,len(cards)-1\n",
        "  while lo <= hi:\n",
        "    mid = (lo + hi)//2\n",
        "    mid_num = cards[mid]\n",
        "    print('lo:',lo,\", hi :\",hi,\", mid:\",mid,\",mid_num:\",mid_num)\n",
        "    if mid_num == query:\n",
        "      return mid\n",
        "    elif mid_num < query:\n",
        "      hi = mid -1\n",
        "    elif mid_num > query:\n",
        "      lo = mid + 1\n",
        "  return -1"
      ],
      "metadata": {
        "id": "ddQrESilL0r4"
      },
      "execution_count": null,
      "outputs": []
    },
    {
      "cell_type": "code",
      "source": [
        "evaluate_test_cases(locate_card, tests)\n"
      ],
      "metadata": {
        "colab": {
          "base_uri": "https://localhost:8080/"
        },
        "id": "YCorHyQXu3Bu",
        "outputId": "0dcaa82d-58ff-47f4-b9eb-484491c5577e"
      },
      "execution_count": null,
      "outputs": [
        {
          "output_type": "stream",
          "name": "stdout",
          "text": [
            "\n",
            "\u001b[1mTEST CASE #0\u001b[0m\n",
            "lo: 0 , hi : 0 , mid: 0 ,mid_num: 6\n",
            "\n",
            "Input:\n",
            "{'cards': [6], 'query': 6}\n",
            "\n",
            "Expected Output:\n",
            "0\n",
            "\n",
            "\n",
            "Actual Output:\n",
            "0\n",
            "\n",
            "Execution Time:\n",
            "0.156 ms\n",
            "\n",
            "Test Result:\n",
            "\u001b[92mPASSED\u001b[0m\n",
            "\n",
            "\n",
            "\u001b[1mTEST CASE #1\u001b[0m\n",
            "lo: 0 , hi : 7 , mid: 3 ,mid_num: 7\n",
            "\n",
            "Input:\n",
            "{'cards': [13, 11, 10, 7, 4, 2, 1, 0], 'query': 7}\n",
            "\n",
            "Expected Output:\n",
            "3\n",
            "\n",
            "\n",
            "Actual Output:\n",
            "3\n",
            "\n",
            "Execution Time:\n",
            "0.142 ms\n",
            "\n",
            "Test Result:\n",
            "\u001b[92mPASSED\u001b[0m\n",
            "\n",
            "\n",
            "\u001b[1mTEST CASE #2\u001b[0m\n",
            "lo: 0 , hi : 13 , mid: 6 ,mid_num: 6\n",
            "lo: 7 , hi : 13 , mid: 10 ,mid_num: 2\n",
            "lo: 7 , hi : 9 , mid: 8 ,mid_num: 2\n",
            "lo: 7 , hi : 7 , mid: 7 ,mid_num: 3\n",
            "\n",
            "Input:\n",
            "{'cards': [8, 8, 6, 6, 6, 6, 6, 3, 2, 2, 2, 0, 0, 0], 'query': 3}\n",
            "\n",
            "Expected Output:\n",
            "7\n",
            "\n",
            "\n",
            "Actual Output:\n",
            "7\n",
            "\n",
            "Execution Time:\n",
            "0.928 ms\n",
            "\n",
            "Test Result:\n",
            "\u001b[92mPASSED\u001b[0m\n",
            "\n",
            "\n",
            "\u001b[1mTEST CASE #3\u001b[0m\n",
            "\n",
            "Input:\n",
            "{'cards': [], 'query': 7}\n",
            "\n",
            "Expected Output:\n",
            "-1\n",
            "\n",
            "\n",
            "Actual Output:\n",
            "-1\n",
            "\n",
            "Execution Time:\n",
            "0.003 ms\n",
            "\n",
            "Test Result:\n",
            "\u001b[92mPASSED\u001b[0m\n",
            "\n",
            "\n",
            "\u001b[1mSUMMARY\u001b[0m\n",
            "\n",
            "TOTAL: 4, \u001b[92mPASSED\u001b[0m: 4, \u001b[91mFAILED\u001b[0m: 0\n"
          ]
        },
        {
          "output_type": "execute_result",
          "data": {
            "text/plain": [
              "[(0, True, 0.156), (3, True, 0.142), (7, True, 0.928), (-1, True, 0.003)]"
            ]
          },
          "metadata": {},
          "execution_count": 25
        }
      ]
    },
    {
      "cell_type": "code",
      "source": [
        "tests.append({\n",
        "    'input': {\n",
        "        'cards':[8, 8, 6, 6, 6, 6, 6, 6, 3, 2, 2, 2, 0, 0, 0],\n",
        "        'query':6\n",
        "    },\n",
        "    'output':2\n",
        "})"
      ],
      "metadata": {
        "id": "sqZbFM8LwLRJ"
      },
      "execution_count": null,
      "outputs": []
    },
    {
      "cell_type": "code",
      "source": [
        "evaluate_test_cases(locate_card,tests)"
      ],
      "metadata": {
        "colab": {
          "base_uri": "https://localhost:8080/"
        },
        "id": "Q2ExBcerwfbQ",
        "outputId": "2ff5e87d-a6b2-4e26-a16b-92f32a0452d6"
      },
      "execution_count": null,
      "outputs": [
        {
          "output_type": "stream",
          "name": "stdout",
          "text": [
            "\n",
            "\u001b[1mTEST CASE #0\u001b[0m\n",
            "lo: 0 , hi : 0 , mid: 0 ,mid_num: 6\n",
            "\n",
            "Input:\n",
            "{'cards': [6], 'query': 6}\n",
            "\n",
            "Expected Output:\n",
            "0\n",
            "\n",
            "\n",
            "Actual Output:\n",
            "0\n",
            "\n",
            "Execution Time:\n",
            "0.154 ms\n",
            "\n",
            "Test Result:\n",
            "\u001b[92mPASSED\u001b[0m\n",
            "\n",
            "\n",
            "\u001b[1mTEST CASE #1\u001b[0m\n",
            "lo: 0 , hi : 7 , mid: 3 ,mid_num: 7\n",
            "\n",
            "Input:\n",
            "{'cards': [13, 11, 10, 7, 4, 2, 1, 0], 'query': 7}\n",
            "\n",
            "Expected Output:\n",
            "3\n",
            "\n",
            "\n",
            "Actual Output:\n",
            "3\n",
            "\n",
            "Execution Time:\n",
            "0.148 ms\n",
            "\n",
            "Test Result:\n",
            "\u001b[92mPASSED\u001b[0m\n",
            "\n",
            "\n",
            "\u001b[1mTEST CASE #2\u001b[0m\n",
            "lo: 0 , hi : 13 , mid: 6 ,mid_num: 6\n",
            "lo: 7 , hi : 13 , mid: 10 ,mid_num: 2\n",
            "lo: 7 , hi : 9 , mid: 8 ,mid_num: 2\n",
            "lo: 7 , hi : 7 , mid: 7 ,mid_num: 3\n",
            "\n",
            "Input:\n",
            "{'cards': [8, 8, 6, 6, 6, 6, 6, 3, 2, 2, 2, 0, 0, 0], 'query': 3}\n",
            "\n",
            "Expected Output:\n",
            "7\n",
            "\n",
            "\n",
            "Actual Output:\n",
            "7\n",
            "\n",
            "Execution Time:\n",
            "0.692 ms\n",
            "\n",
            "Test Result:\n",
            "\u001b[92mPASSED\u001b[0m\n",
            "\n",
            "\n",
            "\u001b[1mTEST CASE #3\u001b[0m\n",
            "\n",
            "Input:\n",
            "{'cards': [], 'query': 7}\n",
            "\n",
            "Expected Output:\n",
            "-1\n",
            "\n",
            "\n",
            "Actual Output:\n",
            "-1\n",
            "\n",
            "Execution Time:\n",
            "0.003 ms\n",
            "\n",
            "Test Result:\n",
            "\u001b[92mPASSED\u001b[0m\n",
            "\n",
            "\n",
            "\u001b[1mTEST CASE #4\u001b[0m\n",
            "lo: 0 , hi : 14 , mid: 7 ,mid_num: 6\n",
            "\n",
            "Input:\n",
            "{'cards': [8, 8, 6, 6, 6, 6, 6, 6, 3, 2, 2, 2, 0, 0, 0], 'query': 6}\n",
            "\n",
            "Expected Output:\n",
            "2\n",
            "\n",
            "\n",
            "Actual Output:\n",
            "7\n",
            "\n",
            "Execution Time:\n",
            "0.18 ms\n",
            "\n",
            "Test Result:\n",
            "\u001b[91mFAILED\u001b[0m\n",
            "\n",
            "\n",
            "\u001b[1mSUMMARY\u001b[0m\n",
            "\n",
            "TOTAL: 5, \u001b[92mPASSED\u001b[0m: 4, \u001b[91mFAILED\u001b[0m: 1\n"
          ]
        },
        {
          "output_type": "execute_result",
          "data": {
            "text/plain": [
              "[(0, True, 0.154),\n",
              " (3, True, 0.148),\n",
              " (7, True, 0.692),\n",
              " (-1, True, 0.003),\n",
              " (7, False, 0.18)]"
            ]
          },
          "metadata": {},
          "execution_count": 27
        }
      ]
    },
    {
      "cell_type": "code",
      "source": [
        "cards4 = tests[4]['input']['cards']\n",
        "query4 = tests[4]['input']['query']\n"
      ],
      "metadata": {
        "id": "3pTGi5RWw3Dm"
      },
      "execution_count": null,
      "outputs": []
    },
    {
      "cell_type": "code",
      "source": [
        "cards4[7]"
      ],
      "metadata": {
        "colab": {
          "base_uri": "https://localhost:8080/"
        },
        "id": "-NvaWMKgxHvD",
        "outputId": "31f457aa-9fa5-4dd4-dc07-19b78598fe1e"
      },
      "execution_count": null,
      "outputs": [
        {
          "output_type": "execute_result",
          "data": {
            "text/plain": [
              "6"
            ]
          },
          "metadata": {},
          "execution_count": 29
        }
      ]
    },
    {
      "cell_type": "markdown",
      "source": [
        "So we did locate a '6' in the array but it seems like there was an early occurence as well but since we were just using mid to find query we stopped at 7th position only."
      ],
      "metadata": {
        "id": "DcqY8qZxxjAR"
      }
    },
    {
      "cell_type": "markdown",
      "source": [
        "Correct way for Binary Search"
      ],
      "metadata": {
        "id": "zy6amZEW07bJ"
      }
    },
    {
      "cell_type": "code",
      "source": [
        "def test_location(cards, query, mid):\n",
        "    mid_number = cards[mid]\n",
        "    #print(\"mid:\", mid, \", mid_number:\", mid_number)\n",
        "    if mid_number == query:\n",
        "        if mid-1 >= 0 and cards[mid-1] == query:\n",
        "            return 'left'\n",
        "        else:\n",
        "            return 'found'\n",
        "    elif mid_number < query:\n",
        "        return 'left'\n",
        "    else:\n",
        "        return 'right'\n",
        "\n",
        "def locate_card(cards, query):\n",
        "    lo, hi = 0, len(cards) - 1\n",
        "    \n",
        "    while lo <= hi:\n",
        "        #print(\"lo:\", lo, \", hi:\", hi)\n",
        "        mid = (lo + hi) // 2\n",
        "        result = test_location(cards, query, mid)\n",
        "        \n",
        "        if result == 'found':\n",
        "            return mid\n",
        "        elif result == 'left':\n",
        "            hi = mid - 1\n",
        "        elif result == 'right':\n",
        "            lo = mid + 1\n",
        "    return -1"
      ],
      "metadata": {
        "id": "KkIX7ipKxwjt"
      },
      "execution_count": null,
      "outputs": []
    },
    {
      "cell_type": "code",
      "source": [
        "evaluate_test_cases(locate_card,tests)"
      ],
      "metadata": {
        "id": "kKlAxaxUz4-w"
      },
      "execution_count": null,
      "outputs": []
    },
    {
      "cell_type": "markdown",
      "source": [
        "# **Linear Search vs Binary Search**"
      ],
      "metadata": {
        "id": "0O618fXNsgHf"
      }
    },
    {
      "cell_type": "markdown",
      "source": [
        "Linear Search"
      ],
      "metadata": {
        "id": "77skL78A_Df8"
      }
    },
    {
      "cell_type": "code",
      "source": [
        "def locate_card_linear(cards,query):\n",
        "  position = 0\n",
        "  while position <= len(cards):\n",
        "    if cards[position] == query:\n",
        "      return position\n",
        "    position+=1\n",
        "  return -1\n"
      ],
      "metadata": {
        "id": "gEIx6IDisp1f"
      },
      "execution_count": 1,
      "outputs": []
    },
    {
      "cell_type": "code",
      "source": [
        "large_test={\n",
        "    'input' : {\n",
        "        'cards' : list(range(10000000,0,-1)),\n",
        "        'query' : 2\n",
        "    },\n",
        "    'output' : 9999998\n",
        "}"
      ],
      "metadata": {
        "id": "mz58MkXIS6P4"
      },
      "execution_count": 3,
      "outputs": []
    },
    {
      "cell_type": "code",
      "source": [
        "evaluate_test_case(locate_card_linear,large_test)"
      ],
      "metadata": {
        "colab": {
          "base_uri": "https://localhost:8080/"
        },
        "id": "XAMx3DIzTg4g",
        "outputId": "df9279cf-e58c-4865-f16b-ed8eece8aecb"
      },
      "execution_count": 12,
      "outputs": [
        {
          "output_type": "stream",
          "name": "stdout",
          "text": [
            "\n",
            "Input:\n",
            "{'cards': [10000000, 9999999, 9999998, 9999997, 9999996, 9999995, 9999994, 9999993, 9999992, 9999991...\n",
            "\n",
            "Expected Output:\n",
            "9999998\n",
            "\n",
            "\n",
            "Actual Output:\n",
            "9999998\n",
            "\n",
            "Execution Time:\n",
            "1927.496 ms\n",
            "\n",
            "Test Result:\n",
            "\u001b[92mPASSED\u001b[0m\n",
            "\n"
          ]
        },
        {
          "output_type": "execute_result",
          "data": {
            "text/plain": [
              "(9999998, True, 1927.496)"
            ]
          },
          "metadata": {},
          "execution_count": 12
        }
      ]
    },
    {
      "cell_type": "markdown",
      "source": [
        "Binary Search"
      ],
      "metadata": {
        "id": "TzE33ORdT5Ni"
      }
    },
    {
      "cell_type": "code",
      "source": [
        "def test_location_binary(cards,query,mid):\n",
        "  mid_number = cards[mid]\n",
        "  if cards[mid] == query:\n",
        "    if mid-1 >= 0 and cards[mid-1] == query:\n",
        "      return 'left'\n",
        "    else:\n",
        "      return 'found'\n",
        "  elif cards[mid] < query:\n",
        "    return 'left'\n",
        "  else:\n",
        "    return 'right'\n",
        "\n",
        "def locate_card_binary(cards,query):\n",
        "  lo,hi = 0,len(cards)-1\n",
        "  while lo <= hi:\n",
        "    mid = (lo+hi)//2\n",
        "    result = test_location_binary(cards,query,mid)\n",
        "\n",
        "    if result == 'found':\n",
        "      return mid\n",
        "    elif result == 'left':\n",
        "      hi = mid -1\n",
        "    elif result == 'right':\n",
        "      lo = mid+1\n",
        "  return -1\n"
      ],
      "metadata": {
        "id": "v2AJOJN2T7vi"
      },
      "execution_count": 10,
      "outputs": []
    },
    {
      "cell_type": "code",
      "source": [
        "evaluate_test_case(locate_card_binary,large_test)"
      ],
      "metadata": {
        "colab": {
          "base_uri": "https://localhost:8080/"
        },
        "id": "I3WLGKEsWT8F",
        "outputId": "11f256db-f8cd-4d1f-a474-0e14296cd1f8"
      },
      "execution_count": 11,
      "outputs": [
        {
          "output_type": "stream",
          "name": "stdout",
          "text": [
            "\n",
            "Input:\n",
            "{'cards': [10000000, 9999999, 9999998, 9999997, 9999996, 9999995, 9999994, 9999993, 9999992, 9999991...\n",
            "\n",
            "Expected Output:\n",
            "9999998\n",
            "\n",
            "\n",
            "Actual Output:\n",
            "9999998\n",
            "\n",
            "Execution Time:\n",
            "0.033 ms\n",
            "\n",
            "Test Result:\n",
            "\u001b[92mPASSED\u001b[0m\n",
            "\n"
          ]
        },
        {
          "output_type": "execute_result",
          "data": {
            "text/plain": [
              "(9999998, True, 0.033)"
            ]
          },
          "metadata": {},
          "execution_count": 11
        }
      ]
    },
    {
      "cell_type": "markdown",
      "source": [
        "# **Execution time for Binary is 0.033 ms while for linear is was 1927.496 ms**"
      ],
      "metadata": {
        "id": "H9X8SZA4WdOF"
      }
    }
  ]
}