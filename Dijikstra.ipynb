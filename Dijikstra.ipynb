{
  "nbformat": 4,
  "nbformat_minor": 0,
  "metadata": {
    "colab": {
      "provenance": [],
      "authorship_tag": "ABX9TyOWS2VLI18FYVwIUEI1bpqB",
      "include_colab_link": true
    },
    "kernelspec": {
      "name": "python3",
      "display_name": "Python 3"
    },
    "language_info": {
      "name": "python"
    }
  },
  "cells": [
    {
      "cell_type": "markdown",
      "metadata": {
        "id": "view-in-github",
        "colab_type": "text"
      },
      "source": [
        "<a href=\"https://colab.research.google.com/github/aryangoyalag/DSA_Python/blob/main/Dijikstra.ipynb\" target=\"_parent\"><img src=\"https://colab.research.google.com/assets/colab-badge.svg\" alt=\"Open In Colab\"/></a>"
      ]
    },
    {
      "cell_type": "code",
      "execution_count": 1,
      "metadata": {
        "id": "6FX1c6eEQV0E"
      },
      "outputs": [],
      "source": [
        "import sys\n",
        "from heapq import heapify,heappush\n",
        "\n",
        "def Dijikstra(Graph,src,dest):\n",
        "  inf=sys.maxsize\n",
        "  node_data={}\n",
        "  for i in Graph.keys():\n",
        "    node_data[i]={'cost':inf,'pred':[]}\n",
        "  node_data[src]['cost']=0\n",
        "  visited = []\n",
        "  temp = src\n",
        "  for i in range(len(Graph)-1):\n",
        "    if temp not in visited:\n",
        "      visited.append(temp)\n",
        "      min_heap=[]\n",
        "      for j in Graph[temp]:\n",
        "        if j not in visited:\n",
        "          cost = node_data[temp]['cost']+Graph[temp][j]\n",
        "          if cost < node_data[j]['cost']:\n",
        "            node_data[j]['cost'] = cost\n",
        "            node_data[j]['pred'] = node_data[temp]['pred'] + list(temp)\n",
        "          heappush(min_heap,(node_data[j]['cost'],j))\n",
        "      heapify(min_heap)\n",
        "      temp = min_heap[0][1]\n",
        "  print('Shortest Distance : ' + str(node_data[dest]['cost']))\n",
        "  print('Shortest Path : ' + str(node_data[dest]['pred'] + list(dest)))\n",
        "\n",
        "graph={\n",
        "    'a':{'b':2,'c':4},\n",
        "    'b':{'a':2,'c':3,'d':8},\n",
        "    'c':{'a':4,'b':3,'e':5,'d':2},\n",
        "    'd':{'b':8,'c':2,'e':11,'f':22},\n",
        "    'e':{'c':5,'d':11,'f':1},\n",
        "    'f':{'d':22,'e':1}\n",
        "}\n",
        "source='a'\n",
        "destination = 'f'\n",
        "Dijikstra(graph,source,destination)"
      ]
    }
  ]
}