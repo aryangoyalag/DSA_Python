{
  "nbformat": 4,
  "nbformat_minor": 0,
  "metadata": {
    "colab": {
      "provenance": [],
      "authorship_tag": "ABX9TyNn2oi4LsylZLt/cM/aiomf",
      "include_colab_link": true
    },
    "kernelspec": {
      "name": "python3",
      "display_name": "Python 3"
    },
    "language_info": {
      "name": "python"
    }
  },
  "cells": [
    {
      "cell_type": "markdown",
      "metadata": {
        "id": "view-in-github",
        "colab_type": "text"
      },
      "source": [
        "<a href=\"https://colab.research.google.com/github/aryangoyalag/DSA_Python/blob/main/BellmanFord.ipynb\" target=\"_parent\"><img src=\"https://colab.research.google.com/assets/colab-badge.svg\" alt=\"Open In Colab\"/></a>"
      ]
    },
    {
      "cell_type": "code",
      "source": [
        "import sys\n",
        "\n",
        "def bellman(graph,src,dest):\n",
        "  inf = sys.maxsize\n",
        "  node_data = {}\n",
        "  for i in graph.keys():\n",
        "    node_data[i]={'cost':inf,'pred':[]}\n",
        "  node_data[src]['cost'] = 0\n",
        "  for i in range(len(graph)-1):\n",
        "    for itr in graph:\n",
        "      for neighbour in graph[itr]:\n",
        "        cost = node_data[itr]['cost'] + graph[itr][neighbour]\n",
        "        if cost < node_data[neighbour]['cost']:\n",
        "          cost = node_data[neighbour]['cost']\n",
        "          if node_data[neighbour]['cost'] == inf:\n",
        "            node_data[neighbour]['pred'] = node_data[itr]['pred'] + list(itr)\n",
        "          else:\n",
        "            node_data[neighbour]['pred'].clear()\n",
        "            node_data[neighbour]['pred'] = node_data[itr]['pred'] + list(itr)\n",
        "  print(node_data)\n",
        "\n",
        "  for itr in graph:\n",
        "    for neighbour in graph[itr]:\n",
        "      if(node_data[itr]['cost'] + graph[itr][neighbour] < node_data[neighbour]['cost'] and cost!= inf):\n",
        "        print(\"Negative weight cycle detected\")\n",
        "        return\n",
        "  print(\"Shortest Distance  \" + str(node_data[dest]['cost']))\n",
        "  print(\"Shortest Path\" + str(node_data[dest]['pred']))\n",
        "\n",
        "graph = {\n",
        "        'A':{'B':6,'C':4,'D':5},\n",
        "        'B':{'E':-1},\n",
        "        'C':{'B':-2,'E':3},\n",
        "        'D':{'C':-2,'F':-1},\n",
        "        'E':{'F':3},\n",
        "        'F':{}\n",
        "    }\n",
        "src='A'\n",
        "dest='F'\n",
        "bellman(graph,src,dest)"
      ],
      "metadata": {
        "colab": {
          "base_uri": "https://localhost:8080/"
        },
        "id": "n9JjIScWhaCh",
        "outputId": "10f1498e-bdca-4699-b698-df3a716b0bcc"
      },
      "execution_count": 13,
      "outputs": [
        {
          "output_type": "stream",
          "name": "stdout",
          "text": [
            "{'A': {'cost': 0, 'pred': []}, 'B': {'cost': 9223372036854775807, 'pred': ['A', 'C']}, 'C': {'cost': 9223372036854775807, 'pred': ['A', 'D']}, 'D': {'cost': 9223372036854775807, 'pred': ['A']}, 'E': {'cost': 9223372036854775807, 'pred': ['A', 'B']}, 'F': {'cost': 9223372036854775807, 'pred': ['A', 'D']}}\n",
            "Negative weight cycle detected\n"
          ]
        }
      ]
    }
  ]
}